{
  "cells": [
    {
      "cell_type": "code",
      "execution_count": 1,
      "metadata": {
        "id": "IVpK3M062zOp"
      },
      "outputs": [],
      "source": [
        "import numpy as np # linear algebra\n",
        "import pandas as pd # data processing, CSV file I/O (e.g. pd.read_csv)\n",
        "\n",
        "import os\n",
        "for dirname, _, filenames in os.walk('/kaggle/input'):\n",
        "    for filename in filenames:\n",
        "        print(os.path.join(dirname, filename))"
      ]
    },
    {
      "cell_type": "code",
      "execution_count": 2,
      "metadata": {
        "id": "DRLTv7mB24mW"
      },
      "outputs": [],
      "source": [
        "# imports\n",
        "from copy import deepcopy\n",
        "import numpy as np \n",
        "import pandas as pd \n",
        "import matplotlib.pyplot as plt\n",
        "import pickle\n",
        "from sklearn.feature_extraction.text import CountVectorizer\n",
        "\n",
        "from typing import Iterable"
      ]
    },
    {
      "cell_type": "code",
      "execution_count": 3,
      "metadata": {
        "colab": {
          "base_uri": "https://localhost:8080/"
        },
        "id": "Or_g5XtS28c2",
        "outputId": "8b208960-1997-437a-8261-85b415215dab"
      },
      "outputs": [
        {
          "ename": "FileNotFoundError",
          "evalue": "[Errno 2] No such file or directory: '/content/dataset.csv'",
          "output_type": "error",
          "traceback": [
            "\u001b[1;31m---------------------------------------------------------------------------\u001b[0m",
            "\u001b[1;31mFileNotFoundError\u001b[0m                         Traceback (most recent call last)",
            "Cell \u001b[1;32mIn[3], line 17\u001b[0m\n\u001b[0;32m     14\u001b[0m \u001b[39mdef\u001b[39;00m \u001b[39mrow_to_string\u001b[39m(row: Iterable[\u001b[39m'\u001b[39m\u001b[39mstr\u001b[39m\u001b[39m'\u001b[39m] ) \u001b[39m-\u001b[39m\u001b[39m>\u001b[39m \u001b[39mstr\u001b[39m:\n\u001b[0;32m     15\u001b[0m     \u001b[39mreturn\u001b[39;00m \u001b[39m'\u001b[39m\u001b[39m \u001b[39m\u001b[39m'\u001b[39m\u001b[39m.\u001b[39mjoin(row\u001b[39m.\u001b[39mvalues)\n\u001b[1;32m---> 17\u001b[0m df \u001b[39m=\u001b[39m pd\u001b[39m.\u001b[39;49mread_csv(\u001b[39m'\u001b[39;49m\u001b[39m/content/dataset.csv\u001b[39;49m\u001b[39m'\u001b[39;49m,delimiter\u001b[39m=\u001b[39;49m\u001b[39m\"\u001b[39;49m\u001b[39m,\u001b[39;49m\u001b[39m\"\u001b[39;49m)\n\u001b[0;32m     19\u001b[0m df_new \u001b[39m=\u001b[39m (df\u001b[39m.\u001b[39mdrop(\u001b[39m'\u001b[39m\u001b[39mDisease\u001b[39m\u001b[39m'\u001b[39m, axis \u001b[39m=\u001b[39m \u001b[39m1\u001b[39m)\u001b[39m.\u001b[39mfillna(\u001b[39m'\u001b[39m\u001b[39m'\u001b[39m))\u001b[39m.\u001b[39mapplymap(string_preparation)\n\u001b[0;32m     21\u001b[0m simptoms_list \u001b[39m=\u001b[39m df_new\u001b[39m.\u001b[39mapply(row_to_string, axis\u001b[39m=\u001b[39m\u001b[39m1\u001b[39m)\u001b[39m.\u001b[39mvalues\u001b[39m.\u001b[39mtolist()\n",
            "File \u001b[1;32mc:\\Users\\HP\\AppData\\Local\\Programs\\Python\\Python39\\lib\\site-packages\\pandas\\io\\parsers\\readers.py:912\u001b[0m, in \u001b[0;36mread_csv\u001b[1;34m(filepath_or_buffer, sep, delimiter, header, names, index_col, usecols, dtype, engine, converters, true_values, false_values, skipinitialspace, skiprows, skipfooter, nrows, na_values, keep_default_na, na_filter, verbose, skip_blank_lines, parse_dates, infer_datetime_format, keep_date_col, date_parser, date_format, dayfirst, cache_dates, iterator, chunksize, compression, thousands, decimal, lineterminator, quotechar, quoting, doublequote, escapechar, comment, encoding, encoding_errors, dialect, on_bad_lines, delim_whitespace, low_memory, memory_map, float_precision, storage_options, dtype_backend)\u001b[0m\n\u001b[0;32m    899\u001b[0m kwds_defaults \u001b[39m=\u001b[39m _refine_defaults_read(\n\u001b[0;32m    900\u001b[0m     dialect,\n\u001b[0;32m    901\u001b[0m     delimiter,\n\u001b[1;32m   (...)\u001b[0m\n\u001b[0;32m    908\u001b[0m     dtype_backend\u001b[39m=\u001b[39mdtype_backend,\n\u001b[0;32m    909\u001b[0m )\n\u001b[0;32m    910\u001b[0m kwds\u001b[39m.\u001b[39mupdate(kwds_defaults)\n\u001b[1;32m--> 912\u001b[0m \u001b[39mreturn\u001b[39;00m _read(filepath_or_buffer, kwds)\n",
            "File \u001b[1;32mc:\\Users\\HP\\AppData\\Local\\Programs\\Python\\Python39\\lib\\site-packages\\pandas\\io\\parsers\\readers.py:577\u001b[0m, in \u001b[0;36m_read\u001b[1;34m(filepath_or_buffer, kwds)\u001b[0m\n\u001b[0;32m    574\u001b[0m _validate_names(kwds\u001b[39m.\u001b[39mget(\u001b[39m\"\u001b[39m\u001b[39mnames\u001b[39m\u001b[39m\"\u001b[39m, \u001b[39mNone\u001b[39;00m))\n\u001b[0;32m    576\u001b[0m \u001b[39m# Create the parser.\u001b[39;00m\n\u001b[1;32m--> 577\u001b[0m parser \u001b[39m=\u001b[39m TextFileReader(filepath_or_buffer, \u001b[39m*\u001b[39m\u001b[39m*\u001b[39mkwds)\n\u001b[0;32m    579\u001b[0m \u001b[39mif\u001b[39;00m chunksize \u001b[39mor\u001b[39;00m iterator:\n\u001b[0;32m    580\u001b[0m     \u001b[39mreturn\u001b[39;00m parser\n",
            "File \u001b[1;32mc:\\Users\\HP\\AppData\\Local\\Programs\\Python\\Python39\\lib\\site-packages\\pandas\\io\\parsers\\readers.py:1407\u001b[0m, in \u001b[0;36mTextFileReader.__init__\u001b[1;34m(self, f, engine, **kwds)\u001b[0m\n\u001b[0;32m   1404\u001b[0m     \u001b[39mself\u001b[39m\u001b[39m.\u001b[39moptions[\u001b[39m\"\u001b[39m\u001b[39mhas_index_names\u001b[39m\u001b[39m\"\u001b[39m] \u001b[39m=\u001b[39m kwds[\u001b[39m\"\u001b[39m\u001b[39mhas_index_names\u001b[39m\u001b[39m\"\u001b[39m]\n\u001b[0;32m   1406\u001b[0m \u001b[39mself\u001b[39m\u001b[39m.\u001b[39mhandles: IOHandles \u001b[39m|\u001b[39m \u001b[39mNone\u001b[39;00m \u001b[39m=\u001b[39m \u001b[39mNone\u001b[39;00m\n\u001b[1;32m-> 1407\u001b[0m \u001b[39mself\u001b[39m\u001b[39m.\u001b[39m_engine \u001b[39m=\u001b[39m \u001b[39mself\u001b[39;49m\u001b[39m.\u001b[39;49m_make_engine(f, \u001b[39mself\u001b[39;49m\u001b[39m.\u001b[39;49mengine)\n",
            "File \u001b[1;32mc:\\Users\\HP\\AppData\\Local\\Programs\\Python\\Python39\\lib\\site-packages\\pandas\\io\\parsers\\readers.py:1661\u001b[0m, in \u001b[0;36mTextFileReader._make_engine\u001b[1;34m(self, f, engine)\u001b[0m\n\u001b[0;32m   1659\u001b[0m     \u001b[39mif\u001b[39;00m \u001b[39m\"\u001b[39m\u001b[39mb\u001b[39m\u001b[39m\"\u001b[39m \u001b[39mnot\u001b[39;00m \u001b[39min\u001b[39;00m mode:\n\u001b[0;32m   1660\u001b[0m         mode \u001b[39m+\u001b[39m\u001b[39m=\u001b[39m \u001b[39m\"\u001b[39m\u001b[39mb\u001b[39m\u001b[39m\"\u001b[39m\n\u001b[1;32m-> 1661\u001b[0m \u001b[39mself\u001b[39m\u001b[39m.\u001b[39mhandles \u001b[39m=\u001b[39m get_handle(\n\u001b[0;32m   1662\u001b[0m     f,\n\u001b[0;32m   1663\u001b[0m     mode,\n\u001b[0;32m   1664\u001b[0m     encoding\u001b[39m=\u001b[39;49m\u001b[39mself\u001b[39;49m\u001b[39m.\u001b[39;49moptions\u001b[39m.\u001b[39;49mget(\u001b[39m\"\u001b[39;49m\u001b[39mencoding\u001b[39;49m\u001b[39m\"\u001b[39;49m, \u001b[39mNone\u001b[39;49;00m),\n\u001b[0;32m   1665\u001b[0m     compression\u001b[39m=\u001b[39;49m\u001b[39mself\u001b[39;49m\u001b[39m.\u001b[39;49moptions\u001b[39m.\u001b[39;49mget(\u001b[39m\"\u001b[39;49m\u001b[39mcompression\u001b[39;49m\u001b[39m\"\u001b[39;49m, \u001b[39mNone\u001b[39;49;00m),\n\u001b[0;32m   1666\u001b[0m     memory_map\u001b[39m=\u001b[39;49m\u001b[39mself\u001b[39;49m\u001b[39m.\u001b[39;49moptions\u001b[39m.\u001b[39;49mget(\u001b[39m\"\u001b[39;49m\u001b[39mmemory_map\u001b[39;49m\u001b[39m\"\u001b[39;49m, \u001b[39mFalse\u001b[39;49;00m),\n\u001b[0;32m   1667\u001b[0m     is_text\u001b[39m=\u001b[39;49mis_text,\n\u001b[0;32m   1668\u001b[0m     errors\u001b[39m=\u001b[39;49m\u001b[39mself\u001b[39;49m\u001b[39m.\u001b[39;49moptions\u001b[39m.\u001b[39;49mget(\u001b[39m\"\u001b[39;49m\u001b[39mencoding_errors\u001b[39;49m\u001b[39m\"\u001b[39;49m, \u001b[39m\"\u001b[39;49m\u001b[39mstrict\u001b[39;49m\u001b[39m\"\u001b[39;49m),\n\u001b[0;32m   1669\u001b[0m     storage_options\u001b[39m=\u001b[39;49m\u001b[39mself\u001b[39;49m\u001b[39m.\u001b[39;49moptions\u001b[39m.\u001b[39;49mget(\u001b[39m\"\u001b[39;49m\u001b[39mstorage_options\u001b[39;49m\u001b[39m\"\u001b[39;49m, \u001b[39mNone\u001b[39;49;00m),\n\u001b[0;32m   1670\u001b[0m )\n\u001b[0;32m   1671\u001b[0m \u001b[39massert\u001b[39;00m \u001b[39mself\u001b[39m\u001b[39m.\u001b[39mhandles \u001b[39mis\u001b[39;00m \u001b[39mnot\u001b[39;00m \u001b[39mNone\u001b[39;00m\n\u001b[0;32m   1672\u001b[0m f \u001b[39m=\u001b[39m \u001b[39mself\u001b[39m\u001b[39m.\u001b[39mhandles\u001b[39m.\u001b[39mhandle\n",
            "File \u001b[1;32mc:\\Users\\HP\\AppData\\Local\\Programs\\Python\\Python39\\lib\\site-packages\\pandas\\io\\common.py:859\u001b[0m, in \u001b[0;36mget_handle\u001b[1;34m(path_or_buf, mode, encoding, compression, memory_map, is_text, errors, storage_options)\u001b[0m\n\u001b[0;32m    854\u001b[0m \u001b[39melif\u001b[39;00m \u001b[39misinstance\u001b[39m(handle, \u001b[39mstr\u001b[39m):\n\u001b[0;32m    855\u001b[0m     \u001b[39m# Check whether the filename is to be opened in binary mode.\u001b[39;00m\n\u001b[0;32m    856\u001b[0m     \u001b[39m# Binary mode does not support 'encoding' and 'newline'.\u001b[39;00m\n\u001b[0;32m    857\u001b[0m     \u001b[39mif\u001b[39;00m ioargs\u001b[39m.\u001b[39mencoding \u001b[39mand\u001b[39;00m \u001b[39m\"\u001b[39m\u001b[39mb\u001b[39m\u001b[39m\"\u001b[39m \u001b[39mnot\u001b[39;00m \u001b[39min\u001b[39;00m ioargs\u001b[39m.\u001b[39mmode:\n\u001b[0;32m    858\u001b[0m         \u001b[39m# Encoding\u001b[39;00m\n\u001b[1;32m--> 859\u001b[0m         handle \u001b[39m=\u001b[39m \u001b[39mopen\u001b[39;49m(\n\u001b[0;32m    860\u001b[0m             handle,\n\u001b[0;32m    861\u001b[0m             ioargs\u001b[39m.\u001b[39;49mmode,\n\u001b[0;32m    862\u001b[0m             encoding\u001b[39m=\u001b[39;49mioargs\u001b[39m.\u001b[39;49mencoding,\n\u001b[0;32m    863\u001b[0m             errors\u001b[39m=\u001b[39;49merrors,\n\u001b[0;32m    864\u001b[0m             newline\u001b[39m=\u001b[39;49m\u001b[39m\"\u001b[39;49m\u001b[39m\"\u001b[39;49m,\n\u001b[0;32m    865\u001b[0m         )\n\u001b[0;32m    866\u001b[0m     \u001b[39melse\u001b[39;00m:\n\u001b[0;32m    867\u001b[0m         \u001b[39m# Binary mode\u001b[39;00m\n\u001b[0;32m    868\u001b[0m         handle \u001b[39m=\u001b[39m \u001b[39mopen\u001b[39m(handle, ioargs\u001b[39m.\u001b[39mmode)\n",
            "\u001b[1;31mFileNotFoundError\u001b[0m: [Errno 2] No such file or directory: '/content/dataset.csv'"
          ]
        }
      ],
      "source": [
        "# parse the dataset with CountVectorizer\n",
        "# since CountVectorizer works with a list of strings, we need to turn df into a list of strings\n",
        "# # there is a problem the symptom may consist of two words \n",
        "# let's turn them into one\n",
        "# function takes a string (the name of the symptom) and replaces and translates it into snake style\n",
        "\n",
        "def string_preparation(st:str) -> str:\n",
        "    return  st.replace('(',' ')\\\n",
        "            .replace(')',' ')\\\n",
        "            .strip()\\\n",
        "            .replace(' ','_')\\\n",
        "            .replace('__','_')\n",
        "# for processing strings\n",
        "def row_to_string(row: Iterable['str'] ) -> str:\n",
        "    return ' '.join(row.values)\n",
        "\n",
        "df = pd.read_csv('/content/dataset.csv',delimiter=\",\")\n",
        "\n",
        "df_new = (df.drop('Disease', axis = 1).fillna('')).applymap(string_preparation)\n",
        "\n",
        "simptoms_list = df_new.apply(row_to_string, axis=1).values.tolist()\n",
        "\n",
        "vectorizer = CountVectorizer()\n",
        "\n",
        "X = vectorizer.fit_transform(simptoms_list)\n",
        "\n",
        "my_df = pd.DataFrame(X.toarray(), columns= vectorizer.get_feature_names_out())\n",
        "symptoms_list = vectorizer.get_feature_names_out()\n",
        "\n",
        "my_df[\"Disease\"] = df[\"Disease\"].map(str.strip)\n",
        "# we have received data that we can feed to the ML algorithm\n",
        "my_df.shape"
      ]
    },
    {
      "cell_type": "code",
      "execution_count": null,
      "metadata": {
        "colab": {
          "base_uri": "https://localhost:8080/"
        },
        "id": "X-V5Cyr53Nef",
        "outputId": "2932dd03-c88d-4ac5-d8eb-1178644aa8d1"
      },
      "outputs": [
        {
          "name": "stdout",
          "output_type": "stream",
          "text": [
            "Looking in indexes: https://pypi.org/simple, https://us-python.pkg.dev/colab-wheels/public/simple/\n",
            "Collecting pyspellchecker\n",
            "  Downloading pyspellchecker-0.7.2-py3-none-any.whl (3.4 MB)\n",
            "\u001b[2K     \u001b[90m━━━━━━━━━━━━━━━━━━━━━━━━━━━━━━━━━━━━━━━━\u001b[0m \u001b[32m3.4/3.4 MB\u001b[0m \u001b[31m32.3 MB/s\u001b[0m eta \u001b[36m0:00:00\u001b[0m\n",
            "\u001b[?25hInstalling collected packages: pyspellchecker\n",
            "Successfully installed pyspellchecker-0.7.2\n"
          ]
        }
      ],
      "source": [
        "!pip install pyspellchecker"
      ]
    },
    {
      "cell_type": "code",
      "execution_count": null,
      "metadata": {
        "colab": {
          "base_uri": "https://localhost:8080/"
        },
        "id": "NiJOffaD3SHs",
        "outputId": "622fc535-8429-4b79-de0d-c2cf7781b223"
      },
      "outputs": [
        {
          "name": "stdout",
          "output_type": "stream",
          "text": [
            "word  diseae\n",
            "disease\n",
            "dis*    Peptic ulcer diseae\n",
            "word  Dimorphic\n",
            "morphic\n",
            "dis*    Dimorphic hemmorhoids(piles)\n",
            "word  hemmorhoids\n",
            "hemorrhoids\n",
            "dis*    Dimorphic hemmorhoids(piles)\n",
            "word  Osteoarthristis\n",
            "None\n",
            "dis*    Osteoarthristis\n",
            "word  Paroymsal\n",
            "None\n",
            "dis*    (vertigo) Paroymsal  Positional Vertigo\n"
          ]
        }
      ],
      "source": [
        "import re\n",
        "from spellchecker import SpellChecker\n",
        " \n",
        "spell = SpellChecker()\n",
        "\n",
        "for dis in my_df[\"Disease\"].unique():\n",
        "    for word in re.split(pattern = r'[\\s()]+', string = dis, maxsplit=0, flags=0):\n",
        "        if word not in [\"\", \"GERD\", 'cholestasis', 'spondylosis', 'Gastroenteritis',\n",
        "                        'Hyperthyroidism', 'Hypothyroidism']\\\n",
        "        and len(word) > 1\\\n",
        "        and spell.correction(word)!=word:\n",
        "            print ('word ', word)  \n",
        "            print(spell.correction(word))  \n",
        "            print (\"dis*   \", dis) "
      ]
    },
    {
      "cell_type": "code",
      "execution_count": null,
      "metadata": {
        "id": "-ZEmd6xn4dt3"
      },
      "outputs": [],
      "source": [
        "# compiling a dictionary of error replacement\n",
        "errors_dict = {\n",
        "    'Peptic ulcer diseae': 'Peptic ulcer disease',\n",
        "    'Dimorphic hemmorhoids(piles)': 'Dimorphic hemorrhoids (piles)',\n",
        "    'Osteoarthristis': 'Osteoarthritis',\n",
        "    '(vertigo) Paroymsal  Positional Vertigo': '(vertigo) Paroxysmal  Positional Vertigo'\n",
        "}\n",
        "# обрабатываем\n",
        "def disease_prep(disease):\n",
        "    if disease in errors_dict:\n",
        "         return errors_dict[disease]\n",
        "    return disease\n",
        "my_df['Disease'] =my_df['Disease'].map(disease_prep)"
      ]
    },
    {
      "cell_type": "code",
      "execution_count": null,
      "metadata": {
        "id": "IgkvAGVc4hCD"
      },
      "outputs": [],
      "source": [
        "# проверяем, checking\n",
        "for dis in my_df[\"Disease\"].unique():\n",
        "    for word in re.split(pattern = r'[\\s()]+', string = dis, maxsplit=0, flags=0):\n",
        "        if word not in [\"\", \"GERD\", 'cholestasis', 'spondylosis', 'Gastroenteritis', 'Osteoarthritis',\n",
        "                        'Hyperthyroidism', 'Hypothyroidism', 'Dimorphic', 'Paroxysmal']\\\n",
        "        and len(word) > 1\\\n",
        "        and spell.correction(word)!=word:\n",
        "            print ('word ', word)  \n",
        "            print(spell.correction(word))  \n",
        "            print (\"dis*   \", dis)"
      ]
    },
    {
      "cell_type": "code",
      "execution_count": null,
      "metadata": {
        "colab": {
          "base_uri": "https://localhost:8080/"
        },
        "id": "t2GrYeKL4j_J",
        "outputId": "5a2b30d1-c491-42b0-cd3a-b4b45bd4a80e"
      },
      "outputs": [
        {
          "name": "stdout",
          "output_type": "stream",
          "text": [
            "dischromic\n",
            "None\n",
            "sym*    dischromic_patches\n",
            "scurring\n",
            "scarring\n",
            "sym*    scurring\n",
            "extremeties\n",
            "extremities\n",
            "sym*    swollen_extremeties\n",
            "typhos\n",
            "typhus\n",
            "sym*    toxic_look_typhos\n"
          ]
        }
      ],
      "source": [
        "for sym in my_df.columns:\n",
        "    for word in sym.split('_'):\n",
        "        if word not in [\"\", \"diarrhoea\", 'polyuria', 'sensorium', 'breathlessness',\n",
        "                       'micturition', 'mucoid', 'unsterile', 'unsteadiness']\\\n",
        "        and spell.correction(word)!=word:\n",
        "            print (word)\n",
        "            print(spell.correction(word))\n",
        "            print (\"sym*   \", sym)"
      ]
    },
    {
      "cell_type": "code",
      "execution_count": null,
      "metadata": {
        "colab": {
          "base_uri": "https://localhost:8080/"
        },
        "id": "oUMsrKgM4m3p",
        "outputId": "cadd8086-77c5-45f9-94e6-9358a1279c41"
      },
      "outputs": [
        {
          "data": {
            "text/plain": [
              "array(['Acne'], dtype=object)"
            ]
          },
          "execution_count": 9,
          "metadata": {},
          "output_type": "execute_result"
        }
      ],
      "source": [
        "# It 's not clear what scurrying is\n",
        "# let's take a closer look\n",
        "my_df[my_df['scurring']==1]['Disease'].unique()\n",
        "#  scarring 100500"
      ]
    },
    {
      "cell_type": "code",
      "execution_count": null,
      "metadata": {
        "colab": {
          "base_uri": "https://localhost:8080/"
        },
        "id": "sU9wNgK24p05",
        "outputId": "0ec5c292-4581-4c60-e5cc-c71095bbc3ab"
      },
      "outputs": [
        {
          "data": {
            "text/plain": [
              "array(['Typhoid'], dtype=object)"
            ]
          },
          "execution_count": 10,
          "metadata": {},
          "output_type": "execute_result"
        }
      ],
      "source": [
        "# It 's not clear what toxic_look_typhos is\n",
        "# let's take a closer look\n",
        "my_df[my_df['toxic_look_typhos']==1]['Disease'].unique()\n",
        "# toxic_look_typhus"
      ]
    },
    {
      "cell_type": "code",
      "execution_count": null,
      "metadata": {
        "id": "ZzPvjsmT4vU4"
      },
      "outputs": [],
      "source": [
        "#compiling a dictionary of error replacement\n",
        "symptoms_errors_dict = {\n",
        "    'cold_hands_and_feets': 'cold_hands_and_feet',\n",
        "    'dischromic_patches': 'dyschromic_patches',\n",
        "    'scurring': 'scarring',\n",
        "    'swollen_extremeties': 'swollen_extremities',\n",
        "    'toxic_look_typhos':'toxic_look_typhus'\n",
        "}\n",
        "def symptom_prep(symptom):\n",
        "    if symptom in symptoms_errors_dict:\n",
        "         return symptoms_errors_dict[symptom]\n",
        "    return symptom\n",
        "my_df.columns=my_df.columns.map(symptom_prep)"
      ]
    },
    {
      "cell_type": "code",
      "execution_count": null,
      "metadata": {
        "id": "pIyYFWGU5D06"
      },
      "outputs": [],
      "source": [
        "for sym in my_df.columns:\n",
        "    for word in sym.split('_'):\n",
        "        if word not in [\"\", \"diarrhoea\", 'polyuria', 'sensorium', 'breathlessness',\n",
        "                       'micturition', 'mucoid', 'unsterile', 'unsteadiness', 'dyschromic']\\\n",
        "        and spell.correction(word)!=word:\n",
        "            print (word)\n",
        "            print(spell.correction(word))\n",
        "            print (\"sym*   \", sym)"
      ]
    },
    {
      "cell_type": "code",
      "execution_count": null,
      "metadata": {
        "colab": {
          "base_uri": "https://localhost:8080/"
        },
        "id": "ywDk-2NP5Hbs",
        "outputId": "269e288d-fdbf-4a33-e5af-146c04049064"
      },
      "outputs": [
        {
          "data": {
            "text/plain": [
              "Disease\n",
              "(vertigo) Paroxysmal  Positional Vertigo    120\n",
              "AIDS                                        120\n",
              "Acne                                        120\n",
              "Alcoholic hepatitis                         120\n",
              "Allergy                                     120\n",
              "Arthritis                                   120\n",
              "Bronchial Asthma                            120\n",
              "Cervical spondylosis                        120\n",
              "Chicken pox                                 120\n",
              "Chronic cholestasis                         120\n",
              "Common Cold                                 120\n",
              "Dengue                                      120\n",
              "Diabetes                                    120\n",
              "Dimorphic hemorrhoids (piles)               120\n",
              "Drug Reaction                               120\n",
              "Fungal infection                            120\n",
              "GERD                                        120\n",
              "Gastroenteritis                             120\n",
              "Heart attack                                120\n",
              "Hepatitis B                                 120\n",
              "Hepatitis C                                 120\n",
              "Hepatitis D                                 120\n",
              "Hepatitis E                                 120\n",
              "Hypertension                                120\n",
              "Hyperthyroidism                             120\n",
              "Hypoglycemia                                120\n",
              "Hypothyroidism                              120\n",
              "Impetigo                                    120\n",
              "Jaundice                                    120\n",
              "Malaria                                     120\n",
              "Migraine                                    120\n",
              "Osteoarthritis                              120\n",
              "Paralysis (brain hemorrhage)                120\n",
              "Peptic ulcer disease                        120\n",
              "Pneumonia                                   120\n",
              "Psoriasis                                   120\n",
              "Tuberculosis                                120\n",
              "Typhoid                                     120\n",
              "Urinary tract infection                     120\n",
              "Varicose veins                              120\n",
              "hepatitis A                                 120\n",
              "Name: Disease, dtype: int64"
            ]
          },
          "execution_count": 13,
          "metadata": {},
          "output_type": "execute_result"
        }
      ],
      "source": [
        "my_df.groupby('Disease').Disease.count()"
      ]
    },
    {
      "cell_type": "code",
      "execution_count": null,
      "metadata": {
        "colab": {
          "base_uri": "https://localhost:8080/"
        },
        "id": "OGdX_WE15aYF",
        "outputId": "f2652a45-1cc0-41c3-fed4-e4928cee77ba"
      },
      "outputs": [
        {
          "data": {
            "text/plain": [
              "(4616, 132)"
            ]
          },
          "execution_count": 14,
          "metadata": {},
          "output_type": "execute_result"
        }
      ],
      "source": [
        "# Let's look for duplicates\n",
        "my_df[my_df.duplicated ()].shape"
      ]
    },
    {
      "cell_type": "code",
      "execution_count": null,
      "metadata": {
        "colab": {
          "base_uri": "https://localhost:8080/"
        },
        "id": "kl2KFPWW5fN8",
        "outputId": "afe6b355-d286-4ebf-8195-67490b4cf4c4"
      },
      "outputs": [
        {
          "name": "stdout",
          "output_type": "stream",
          "text": [
            " without duplicated shape  (304, 132)\n"
          ]
        },
        {
          "data": {
            "text/plain": [
              "Disease\n",
              "Gastroenteritis                              5\n",
              "AIDS                                         5\n",
              "Acne                                         5\n",
              "Urinary tract infection                      5\n",
              "Allergy                                      5\n",
              "Fungal infection                             5\n",
              "Heart attack                                 5\n",
              "Paralysis (brain hemorrhage)                 5\n",
              "Arthritis                                    6\n",
              "Cervical spondylosis                         6\n",
              "Drug Reaction                                6\n",
              "Impetigo                                     6\n",
              "Hypertension                                 6\n",
              "Dimorphic hemorrhoids (piles)                6\n",
              "(vertigo) Paroxysmal  Positional Vertigo     7\n",
              "Psoriasis                                    7\n",
              "Osteoarthritis                               7\n",
              "Peptic ulcer disease                         7\n",
              "Hepatitis C                                  7\n",
              "Bronchial Asthma                             7\n",
              "GERD                                         7\n",
              "Malaria                                      8\n",
              "Varicose veins                               8\n",
              "Alcoholic hepatitis                          8\n",
              "Hypothyroidism                               8\n",
              "Chronic cholestasis                          8\n",
              "Typhoid                                      9\n",
              "Tuberculosis                                 9\n",
              "Pneumonia                                    9\n",
              "Common Cold                                  9\n",
              "Hepatitis B                                  9\n",
              "Jaundice                                     9\n",
              "Hypoglycemia                                 9\n",
              "Hyperthyroidism                              9\n",
              "Diabetes                                     9\n",
              "Hepatitis E                                  9\n",
              "hepatitis A                                  9\n",
              "Dengue                                      10\n",
              "Chicken pox                                 10\n",
              "Hepatitis D                                 10\n",
              "Migraine                                    10\n",
              "Name: Disease, dtype: int64"
            ]
          },
          "execution_count": 15,
          "metadata": {},
          "output_type": "execute_result"
        }
      ],
      "source": [
        "df_drop_dup = my_df.drop_duplicates() \n",
        "print(f' without duplicated shape  {df_drop_dup.shape}')\n",
        "df_drop_dup.groupby('Disease').Disease.count().sort_values()"
      ]
    },
    {
      "cell_type": "code",
      "execution_count": null,
      "metadata": {
        "id": "7ONBizvy5jAN"
      },
      "outputs": [],
      "source": [
        "# import models\n",
        "from sklearn.tree import DecisionTreeClassifier\n",
        "from sklearn.model_selection import train_test_split\n",
        "from sklearn.metrics import classification_report\n",
        "from sklearn.linear_model import LogisticRegression\n",
        "from sklearn.neighbors import KNeighborsClassifier\n",
        "from sklearn.naive_bayes import GaussianNB\n",
        "from sklearn.svm import SVC\n",
        "from sklearn.ensemble import RandomForestClassifier\n",
        "from sklearn.model_selection import cross_val_score, StratifiedKFold\n",
        "\n",
        "import warnings\n",
        "warnings.filterwarnings(\"ignore\")\n",
        "\n",
        "X = df_drop_dup.drop(\"Disease\", axis=1)\n",
        "y = df_drop_dup[\"Disease\"]\n",
        "\n",
        "\n",
        "n_fold = 7\n",
        "\n",
        "# let's define the parameters of cross-validation (stratified 7-stock with mixing)\n",
        "skf = StratifiedKFold(n_splits=n_fold, shuffle=True, random_state= 11)"
      ]
    },
    {
      "cell_type": "code",
      "execution_count": null,
      "metadata": {
        "colab": {
          "base_uri": "https://localhost:8080/"
        },
        "id": "Us1EoN_L5nSI",
        "outputId": "bf414bdd-1265-43c4-dc81-51fb8467e75a"
      },
      "outputs": [
        {
          "name": "stdout",
          "output_type": "stream",
          "text": [
            "all scores  [0.56818182 0.45454545 0.54545455 0.55813953 0.69767442 0.53488372\n",
            " 0.65116279]\n",
            "mean scores  0.57\n"
          ]
        }
      ],
      "source": [
        "clf  = DecisionTreeClassifier(random_state=11)\n",
        "\n",
        "scores: np.array = cross_val_score(clf, X, y, cv=skf)\n",
        "print ('all scores ', scores)\n",
        "print ('mean scores ', round(scores.mean(), 2))"
      ]
    },
    {
      "cell_type": "code",
      "execution_count": null,
      "metadata": {
        "colab": {
          "base_uri": "https://localhost:8080/"
        },
        "id": "zG9Wf7kR5qhH",
        "outputId": "0d64a61e-ff9f-4f29-c72b-dda12b5ae5a5"
      },
      "outputs": [
        {
          "name": "stdout",
          "output_type": "stream",
          "text": [
            "all scores  [1. 1. 1. 1. 1. 1. 1.]\n",
            "mean scores  1.0\n"
          ]
        }
      ],
      "source": [
        "clf  = LogisticRegression(random_state=11)\n",
        "\n",
        "scores: np.array = cross_val_score(clf, X, y, cv=skf)\n",
        "print ('all scores ', scores)\n",
        "print ('mean scores ', round(scores.mean(), 2))"
      ]
    },
    {
      "cell_type": "code",
      "execution_count": null,
      "metadata": {
        "colab": {
          "base_uri": "https://localhost:8080/"
        },
        "id": "-wP6o6CG5tyN",
        "outputId": "271cc69c-226c-4474-d132-0f01199875ee"
      },
      "outputs": [
        {
          "name": "stdout",
          "output_type": "stream",
          "text": [
            "all scores  1.0 1.0 1.0 1.0 1.0 1.0 1.0\n",
            "mean scores  1.0\n"
          ]
        }
      ],
      "source": [
        "clf  = KNeighborsClassifier()\n",
        " \n",
        "scores: np.array = cross_val_score(clf, X, y, cv=skf)\n",
        "print ('all scores ', *scores)\n",
        "print ('mean scores ', round(scores.mean(), 2))"
      ]
    },
    {
      "cell_type": "code",
      "execution_count": null,
      "metadata": {
        "colab": {
          "base_uri": "https://localhost:8080/"
        },
        "id": "WgzGYrk95yYX",
        "outputId": "391b4258-df6d-4983-8b2e-ec42f8eb6c2e"
      },
      "outputs": [
        {
          "name": "stdout",
          "output_type": "stream",
          "text": [
            "all scores  [1.         1.         0.97727273 0.97674419 1.         1.\n",
            " 1.        ]\n",
            "mean scores  0.99\n"
          ]
        }
      ],
      "source": [
        "clf  = GaussianNB()\n",
        "\n",
        "scores: np.array = cross_val_score(clf, X, y, cv=skf)\n",
        "print ('all scores ', scores)\n",
        "print ('mean scores ', round(scores.mean(), 2))"
      ]
    },
    {
      "cell_type": "code",
      "execution_count": null,
      "metadata": {
        "colab": {
          "base_uri": "https://localhost:8080/"
        },
        "id": "6FZVnNtq51Mh",
        "outputId": "89ec1757-08f4-4ab6-c27c-e72397355721"
      },
      "outputs": [
        {
          "name": "stdout",
          "output_type": "stream",
          "text": [
            "all scores  [1. 1. 1. 1. 1. 1. 1.]\n",
            "mean scores  1.0\n"
          ]
        }
      ],
      "source": [
        "clf  = SVC(random_state=11)\n",
        " \n",
        "scores: np.array = cross_val_score(clf, X, y, cv=skf)\n",
        "print ('all scores ', scores)\n",
        "print ('mean scores ', round(scores.mean(), 2))"
      ]
    },
    {
      "cell_type": "code",
      "execution_count": null,
      "metadata": {
        "colab": {
          "base_uri": "https://localhost:8080/"
        },
        "id": "PgQSjXzs54Kg",
        "outputId": "f5c4d64e-1f1a-438e-cc68-6577ea2509cb"
      },
      "outputs": [
        {
          "name": "stdout",
          "output_type": "stream",
          "text": [
            "all scores  [1. 1. 1. 1. 1. 1. 1.]\n",
            "mean scores  1.0\n"
          ]
        }
      ],
      "source": [
        "clf  = RandomForestClassifier(random_state=11)\n",
        "\n",
        "scores: np.array = cross_val_score(clf, X, y, cv=skf)\n",
        "print ('all scores ', scores)\n",
        "print ('mean scores ', round(scores.mean(), 2))"
      ]
    },
    {
      "cell_type": "code",
      "execution_count": null,
      "metadata": {
        "colab": {
          "base_uri": "https://localhost:8080/"
        },
        "id": "CMtsufzWEPql",
        "outputId": "f9e1865e-8645-4ece-9479-f1c959387ba5"
      },
      "outputs": [
        {
          "name": "stdout",
          "output_type": "stream",
          "text": [
            "Enter your symptoms separated by commas: patches_in_throat,high_fever,extra_marital_contacts\n",
            "Top 5 matching diseases:\n",
            "61\n",
            "67\n",
            "471\n",
            "477\n",
            "881\n"
          ]
        }
      ],
      "source": [
        "# ask user for symptoms input\n",
        "user_symptoms = input(\"Enter your symptoms separated by commas: \")\n",
        "\n",
        "# clean the user input\n",
        "user_symptoms = user_symptoms.strip().lower().replace(\" \", \"_\")\n",
        "\n",
        "# check that user input is valid\n",
        "for symptom in user_symptoms.split(\",\"):\n",
        "    if symptom not in my_df.columns:\n",
        "        print(f\"Invalid symptom entered: {symptom}\")\n",
        "        break\n",
        "else:\n",
        "    # create a numpy array from the user input symptoms\n",
        "    user_symptoms_array = np.zeros(len(my_df.columns) - 1)\n",
        "    for symptom in user_symptoms.split(\",\"):\n",
        "        user_symptoms_array[my_df.columns.get_loc(symptom)] = 1\n",
        "\n",
        "    # calculate the cosine similarity between the user input and the dataset\n",
        "    similarity_scores = my_df.iloc[:, :-1].apply(lambda row: np.dot(row, user_symptoms_array) / (np.linalg.norm(row) * np.linalg.norm(user_symptoms_array)), axis=1)\n",
        "\n",
        "    # get the top 5 diseases that match the user's symptoms\n",
        "    top_diseases = similarity_scores.nlargest(5)\n",
        "\n",
        "    # output the top 5 diseases\n",
        "    print(\"Top 5 matching diseases:\")\n",
        "    \n",
        "    for disease in top_diseases.index:\n",
        "        print(disease)\n"
      ]
    },
    {
      "cell_type": "code",
      "execution_count": null,
      "metadata": {
        "colab": {
          "base_uri": "https://localhost:8080/"
        },
        "id": "__3SB0RTUilT",
        "outputId": "78a0dd8a-8fc1-4867-d661-f22a6e1a0fd9"
      },
      "outputs": [
        {
          "name": "stdout",
          "output_type": "stream",
          "text": [
            "Please enter your symptoms separated by commas: patches_in_throat,high_fever,extra marital contacts\n",
            "The most likely disease is AIDS.\n"
          ]
        }
      ],
      "source": [
        "# input the symptoms\n",
        "user_symptoms = input(\"Please enter your symptoms separated by commas: \")\n",
        "# prepare the user input\n",
        "user_symptoms = [string_preparation(symptom.strip()) for symptom in user_symptoms.split(\",\")]\n",
        "\n",
        "# check if the input symptoms are in the dataframe\n",
        "missing_symptoms = set(user_symptoms) - set(my_df.columns)\n",
        "if missing_symptoms:\n",
        "    print(f\"Sorry, we don't have any records for the following symptoms: {missing_symptoms}\")\n",
        "else:\n",
        "    # filter the dataframe\n",
        "    filtered_df = my_df.loc[:, [\"Disease\"] + user_symptoms]\n",
        "    filtered_df = filtered_df[(filtered_df[user_symptoms].sum(axis=1) == len(user_symptoms))]\n",
        "    # get the most common disease\n",
        "    if filtered_df.empty:\n",
        "        print(\"Sorry, we could not find any diseases that match your symptoms.\")\n",
        "    else:\n",
        "        disease = filtered_df[\"Disease\"].value_counts().idxmax()\n",
        "        print(f\"The most likely disease is {disease}.\")"
      ]
    },
    {
      "cell_type": "code",
      "execution_count": null,
      "metadata": {
        "colab": {
          "base_uri": "https://localhost:8080/"
        },
        "id": "JS8nbWFuFxfT",
        "outputId": "23f58582-d1e5-437b-b779-0f9c5fdd15e1"
      },
      "outputs": [
        {
          "name": "stdout",
          "output_type": "stream",
          "text": [
            "Looking in indexes: https://pypi.org/simple, https://us-python.pkg.dev/colab-wheels/public/simple/\n",
            "Collecting PySimpleGUI\n",
            "  Downloading PySimpleGUI-4.60.4-py3-none-any.whl (509 kB)\n",
            "\u001b[2K     \u001b[90m━━━━━━━━━━━━━━━━━━━━━━━━━━━━━━━━━━━━━━\u001b[0m \u001b[32m510.0/510.0 kB\u001b[0m \u001b[31m11.1 MB/s\u001b[0m eta \u001b[36m0:00:00\u001b[0m\n",
            "\u001b[?25hInstalling collected packages: PySimpleGUI\n",
            "Successfully installed PySimpleGUI-4.60.4\n"
          ]
        }
      ],
      "source": [
        "!pip install PySimpleGUI"
      ]
    },
    {
      "cell_type": "code",
      "execution_count": null,
      "metadata": {
        "id": "3wYYAihIfY7L"
      },
      "outputs": [],
      "source": [
        "import PySimpleGUI as sg\n",
        "\n",
        "def next_screen(NAME,user_symptoms):\n",
        "        \n",
        "    sg.theme('DarkBlue7')\n",
        "    \n",
        "    layout1 = [\n",
        "        [sg.Text('                                      '),sg.Text('Disease Prediction!', font=('Futura', 20))],\n",
        "        [sg.Text('')],\n",
        "        [sg.Text('')],\n",
        "        [sg.Text('                  '),sg.Text(f'Name: {NAME}', font=('Futura', 14))],\n",
        "        [sg.Text('')],\n",
        "        [sg.Text('        '),sg.Text('Disease Predicted: ', font=('Futura', 14)), sg.Input(key='-pred-', size=(30, 1),background_color='lightblue',text_color='Black')],\n",
        "        [sg.Text('')],\n",
        "        [sg.Text('')],\n",
        "        [sg.Text('                                        '),sg.Button('Submit', size=(15, 1))]\n",
        "    ]\n",
        "    \n",
        "    window_1 = sg.Window('Hey Doctor', layout1,size=(500, 300))\n",
        "\n",
        "    \n",
        "    # check if the input symptoms are in the dataframe\n",
        "    missing_symptoms = set(user_symptoms) - set(my_df.columns)\n",
        "    # if missing_symptoms:\n",
        "    #     print(f\"Sorry, we don't have any records for the following symptoms: {missing_symptoms}\")\n",
        "    # else:\n",
        "    #     # filter the dataframe\n",
        "    #     filtered_df = my_df.loc[:, [\"Disease\"] + user_symptoms]\n",
        "    #     filtered_df = filtered_df[(filtered_df[user_symptoms].sum(axis=1) == len(user_symptoms))]\n",
        "    #     # get the most common disease\n",
        "    #     if filtered_df.empty:\n",
        "    #         print(\"Sorry, we could not find any diseases that match your symptoms.\")\n",
        "    #     else:\n",
        "    #         disease = filtered_df[\"Disease\"].value_counts().idxmax()\n",
        "    #         print(f\"The most likely disease is {disease}.\")\n",
        "    \n",
        "    while True:\n",
        "        event, values = window_1.read()\n",
        "        if event == sg.WINDOW_CLOSED:\n",
        "            break\n",
        "        if event == 'Submit':\n",
        "            if missing_symptoms:\n",
        "\n",
        "                window_1['-pred-'].update(value=f\"Sorry, we don't have any records for the following symptoms: {missing_symptoms}\")\n",
        "            else:\n",
        "                # filter the dataframe\n",
        "                filtered_df = my_df.loc[:, [\"Disease\"] + user_symptoms]\n",
        "                filtered_df = filtered_df[(filtered_df[user_symptoms].sum(axis=1) == len(user_symptoms))]\n",
        "                # get the most common disease\n",
        "                if filtered_df.empty:\n",
        "                    window_1['-pred-'].update(value=\"Sorry, we could not find any diseases that match your symptoms.\")\n",
        "                else:\n",
        "                    disease = filtered_df[\"Disease\"].value_counts().idxmax()\n",
        "                    window_1['-pred-'].update(value=f\"The most likely disease is {disease}.\")\n",
        "            \n",
        "            \n",
        "        \n",
        "\n",
        "    window_1.close()"
      ]
    },
    {
      "cell_type": "code",
      "execution_count": null,
      "metadata": {
        "colab": {
          "base_uri": "https://localhost:8080/",
          "height": 398
        },
        "id": "C8lnnwmJEfNV",
        "outputId": "8035cfa8-568a-45e4-8312-a48555b99ce2"
      },
      "outputs": [
        {
          "ename": "TclError",
          "evalue": "ignored",
          "output_type": "error",
          "traceback": [
            "\u001b[0;31m---------------------------------------------------------------------------\u001b[0m",
            "\u001b[0;31mTclError\u001b[0m                                  Traceback (most recent call last)",
            "\u001b[0;32m<ipython-input-31-cb79296856df>\u001b[0m in \u001b[0;36m<cell line: 19>\u001b[0;34m()\u001b[0m\n\u001b[1;32m     18\u001b[0m \u001b[0;34m\u001b[0m\u001b[0m\n\u001b[1;32m     19\u001b[0m \u001b[0;32mwhile\u001b[0m \u001b[0;32mTrue\u001b[0m\u001b[0;34m:\u001b[0m\u001b[0;34m\u001b[0m\u001b[0;34m\u001b[0m\u001b[0m\n\u001b[0;32m---> 20\u001b[0;31m     \u001b[0mevent\u001b[0m\u001b[0;34m,\u001b[0m \u001b[0mvalues\u001b[0m \u001b[0;34m=\u001b[0m \u001b[0mwindow\u001b[0m\u001b[0;34m.\u001b[0m\u001b[0mread\u001b[0m\u001b[0;34m(\u001b[0m\u001b[0;34m)\u001b[0m\u001b[0;34m\u001b[0m\u001b[0;34m\u001b[0m\u001b[0m\n\u001b[0m\u001b[1;32m     21\u001b[0m     \u001b[0;32mif\u001b[0m \u001b[0mevent\u001b[0m \u001b[0;34m==\u001b[0m \u001b[0msg\u001b[0m\u001b[0;34m.\u001b[0m\u001b[0mWINDOW_CLOSED\u001b[0m\u001b[0;34m:\u001b[0m\u001b[0;34m\u001b[0m\u001b[0;34m\u001b[0m\u001b[0m\n\u001b[1;32m     22\u001b[0m         \u001b[0;32mbreak\u001b[0m\u001b[0;34m\u001b[0m\u001b[0;34m\u001b[0m\u001b[0m\n",
            "\u001b[0;32m/usr/local/lib/python3.10/dist-packages/PySimpleGUI/PySimpleGUI.py\u001b[0m in \u001b[0;36mread\u001b[0;34m(self, timeout, timeout_key, close)\u001b[0m\n\u001b[1;32m  10073\u001b[0m         \u001b[0;32mwhile\u001b[0m \u001b[0;32mTrue\u001b[0m\u001b[0;34m:\u001b[0m\u001b[0;34m\u001b[0m\u001b[0;34m\u001b[0m\u001b[0m\n\u001b[1;32m  10074\u001b[0m             \u001b[0mWindow\u001b[0m\u001b[0;34m.\u001b[0m\u001b[0m_root_running_mainloop\u001b[0m \u001b[0;34m=\u001b[0m \u001b[0mself\u001b[0m\u001b[0;34m.\u001b[0m\u001b[0mTKroot\u001b[0m\u001b[0;34m\u001b[0m\u001b[0;34m\u001b[0m\u001b[0m\n\u001b[0;32m> 10075\u001b[0;31m             \u001b[0mresults\u001b[0m \u001b[0;34m=\u001b[0m \u001b[0mself\u001b[0m\u001b[0;34m.\u001b[0m\u001b[0m_read\u001b[0m\u001b[0;34m(\u001b[0m\u001b[0mtimeout\u001b[0m\u001b[0;34m=\u001b[0m\u001b[0mtimeout\u001b[0m\u001b[0;34m,\u001b[0m \u001b[0mtimeout_key\u001b[0m\u001b[0;34m=\u001b[0m\u001b[0mtimeout_key\u001b[0m\u001b[0;34m)\u001b[0m\u001b[0;34m\u001b[0m\u001b[0;34m\u001b[0m\u001b[0m\n\u001b[0m\u001b[1;32m  10076\u001b[0m             \u001b[0;32mif\u001b[0m \u001b[0mresults\u001b[0m \u001b[0;32mis\u001b[0m \u001b[0;32mnot\u001b[0m \u001b[0;32mNone\u001b[0m\u001b[0;34m:\u001b[0m\u001b[0;34m\u001b[0m\u001b[0;34m\u001b[0m\u001b[0m\n\u001b[1;32m  10077\u001b[0m                 \u001b[0;32mif\u001b[0m \u001b[0mresults\u001b[0m\u001b[0;34m[\u001b[0m\u001b[0;36m0\u001b[0m\u001b[0;34m]\u001b[0m \u001b[0;34m==\u001b[0m \u001b[0mDEFAULT_WINDOW_SNAPSHOT_KEY\u001b[0m\u001b[0;34m:\u001b[0m\u001b[0;34m\u001b[0m\u001b[0;34m\u001b[0m\u001b[0m\n",
            "\u001b[0;32m/usr/local/lib/python3.10/dist-packages/PySimpleGUI/PySimpleGUI.py\u001b[0m in \u001b[0;36m_read\u001b[0;34m(self, timeout, timeout_key)\u001b[0m\n\u001b[1;32m  10144\u001b[0m             \u001b[0;32mreturn\u001b[0m \u001b[0;32mNone\u001b[0m\u001b[0;34m,\u001b[0m \u001b[0;32mNone\u001b[0m\u001b[0;34m\u001b[0m\u001b[0;34m\u001b[0m\u001b[0m\n\u001b[1;32m  10145\u001b[0m         \u001b[0;32mif\u001b[0m \u001b[0;32mnot\u001b[0m \u001b[0mself\u001b[0m\u001b[0;34m.\u001b[0m\u001b[0mShown\u001b[0m\u001b[0;34m:\u001b[0m\u001b[0;34m\u001b[0m\u001b[0;34m\u001b[0m\u001b[0m\n\u001b[0;32m> 10146\u001b[0;31m             \u001b[0mself\u001b[0m\u001b[0;34m.\u001b[0m\u001b[0m_Show\u001b[0m\u001b[0;34m(\u001b[0m\u001b[0;34m)\u001b[0m\u001b[0;34m\u001b[0m\u001b[0;34m\u001b[0m\u001b[0m\n\u001b[0m\u001b[1;32m  10147\u001b[0m         \u001b[0;32melse\u001b[0m\u001b[0;34m:\u001b[0m\u001b[0;34m\u001b[0m\u001b[0;34m\u001b[0m\u001b[0m\n\u001b[1;32m  10148\u001b[0m             \u001b[0;31m# if already have a button waiting, the return previously built results\u001b[0m\u001b[0;34m\u001b[0m\u001b[0;34m\u001b[0m\u001b[0m\n",
            "\u001b[0;32m/usr/local/lib/python3.10/dist-packages/PySimpleGUI/PySimpleGUI.py\u001b[0m in \u001b[0;36m_Show\u001b[0;34m(self, non_blocking)\u001b[0m\n\u001b[1;32m   9884\u001b[0m             \u001b[0mself\u001b[0m\u001b[0;34m.\u001b[0m\u001b[0mUseDefaultFocus\u001b[0m \u001b[0;34m=\u001b[0m \u001b[0;32mFalse\u001b[0m\u001b[0;34m\u001b[0m\u001b[0;34m\u001b[0m\u001b[0m\n\u001b[1;32m   9885\u001b[0m         \u001b[0;31m# -=-=-=-=-=-=-=-=- RUN the GUI -=-=-=-=-=-=-=-=- ##\u001b[0m\u001b[0;34m\u001b[0m\u001b[0;34m\u001b[0m\u001b[0m\n\u001b[0;32m-> 9886\u001b[0;31m         \u001b[0mStartupTK\u001b[0m\u001b[0;34m(\u001b[0m\u001b[0mself\u001b[0m\u001b[0;34m)\u001b[0m\u001b[0;34m\u001b[0m\u001b[0;34m\u001b[0m\u001b[0m\n\u001b[0m\u001b[1;32m   9887\u001b[0m         \u001b[0;31m# If a button or keyboard event happened but no results have been built, build the results\u001b[0m\u001b[0;34m\u001b[0m\u001b[0;34m\u001b[0m\u001b[0m\n\u001b[1;32m   9888\u001b[0m         \u001b[0;32mif\u001b[0m \u001b[0mself\u001b[0m\u001b[0;34m.\u001b[0m\u001b[0mLastKeyboardEvent\u001b[0m \u001b[0;32mis\u001b[0m \u001b[0;32mnot\u001b[0m \u001b[0;32mNone\u001b[0m \u001b[0;32mor\u001b[0m \u001b[0mself\u001b[0m\u001b[0;34m.\u001b[0m\u001b[0mLastButtonClicked\u001b[0m \u001b[0;32mis\u001b[0m \u001b[0;32mnot\u001b[0m \u001b[0;32mNone\u001b[0m\u001b[0;34m:\u001b[0m\u001b[0;34m\u001b[0m\u001b[0;34m\u001b[0m\u001b[0m\n",
            "\u001b[0;32m/usr/local/lib/python3.10/dist-packages/PySimpleGUI/PySimpleGUI.py\u001b[0m in \u001b[0;36mStartupTK\u001b[0;34m(window)\u001b[0m\n\u001b[1;32m  16815\u001b[0m         \u001b[0;31m# if first window being created, make a throwaway, hidden master root.  This stops one user\u001b[0m\u001b[0;34m\u001b[0m\u001b[0;34m\u001b[0m\u001b[0m\n\u001b[1;32m  16816\u001b[0m         \u001b[0;31m# window from becoming the child of another user window. All windows are children of this hidden window\u001b[0m\u001b[0;34m\u001b[0m\u001b[0;34m\u001b[0m\u001b[0m\n\u001b[0;32m> 16817\u001b[0;31m         \u001b[0m_get_hidden_master_root\u001b[0m\u001b[0;34m(\u001b[0m\u001b[0;34m)\u001b[0m\u001b[0;34m\u001b[0m\u001b[0;34m\u001b[0m\u001b[0m\n\u001b[0m\u001b[1;32m  16818\u001b[0m         \u001b[0mroot\u001b[0m \u001b[0;34m=\u001b[0m \u001b[0mtk\u001b[0m\u001b[0;34m.\u001b[0m\u001b[0mToplevel\u001b[0m\u001b[0;34m(\u001b[0m\u001b[0mclass_\u001b[0m\u001b[0;34m=\u001b[0m\u001b[0mwindow\u001b[0m\u001b[0;34m.\u001b[0m\u001b[0mTitle\u001b[0m\u001b[0;34m)\u001b[0m\u001b[0;34m\u001b[0m\u001b[0;34m\u001b[0m\u001b[0m\n\u001b[1;32m  16819\u001b[0m     \u001b[0;32melse\u001b[0m\u001b[0;34m:\u001b[0m\u001b[0;34m\u001b[0m\u001b[0;34m\u001b[0m\u001b[0m\n",
            "\u001b[0;32m/usr/local/lib/python3.10/dist-packages/PySimpleGUI/PySimpleGUI.py\u001b[0m in \u001b[0;36m_get_hidden_master_root\u001b[0;34m()\u001b[0m\n\u001b[1;32m  16702\u001b[0m     \u001b[0;32mif\u001b[0m \u001b[0mWindow\u001b[0m\u001b[0;34m.\u001b[0m\u001b[0mhidden_master_root\u001b[0m \u001b[0;32mis\u001b[0m \u001b[0;32mNone\u001b[0m\u001b[0;34m:\u001b[0m\u001b[0;34m\u001b[0m\u001b[0;34m\u001b[0m\u001b[0m\n\u001b[1;32m  16703\u001b[0m         \u001b[0mWindow\u001b[0m\u001b[0;34m.\u001b[0m\u001b[0m_IncrementOpenCount\u001b[0m\u001b[0;34m(\u001b[0m\u001b[0;34m)\u001b[0m\u001b[0;34m\u001b[0m\u001b[0;34m\u001b[0m\u001b[0m\n\u001b[0;32m> 16704\u001b[0;31m         \u001b[0mWindow\u001b[0m\u001b[0;34m.\u001b[0m\u001b[0mhidden_master_root\u001b[0m \u001b[0;34m=\u001b[0m \u001b[0mtk\u001b[0m\u001b[0;34m.\u001b[0m\u001b[0mTk\u001b[0m\u001b[0;34m(\u001b[0m\u001b[0;34m)\u001b[0m\u001b[0;34m\u001b[0m\u001b[0;34m\u001b[0m\u001b[0m\n\u001b[0m\u001b[1;32m  16705\u001b[0m         \u001b[0mWindow\u001b[0m\u001b[0;34m.\u001b[0m\u001b[0mhidden_master_root\u001b[0m\u001b[0;34m.\u001b[0m\u001b[0mattributes\u001b[0m\u001b[0;34m(\u001b[0m\u001b[0;34m'-alpha'\u001b[0m\u001b[0;34m,\u001b[0m \u001b[0;36m0\u001b[0m\u001b[0;34m)\u001b[0m  \u001b[0;31m# HIDE this window really really really\u001b[0m\u001b[0;34m\u001b[0m\u001b[0;34m\u001b[0m\u001b[0m\n\u001b[1;32m  16706\u001b[0m         \u001b[0;31m# if not running_mac():\u001b[0m\u001b[0;34m\u001b[0m\u001b[0;34m\u001b[0m\u001b[0m\n",
            "\u001b[0;32m/usr/lib/python3.10/tkinter/__init__.py\u001b[0m in \u001b[0;36m__init__\u001b[0;34m(self, screenName, baseName, className, useTk, sync, use)\u001b[0m\n\u001b[1;32m   2300\u001b[0m                 \u001b[0mbaseName\u001b[0m \u001b[0;34m=\u001b[0m \u001b[0mbaseName\u001b[0m \u001b[0;34m+\u001b[0m \u001b[0mext\u001b[0m\u001b[0;34m\u001b[0m\u001b[0;34m\u001b[0m\u001b[0m\n\u001b[1;32m   2301\u001b[0m         \u001b[0minteractive\u001b[0m \u001b[0;34m=\u001b[0m \u001b[0;32mFalse\u001b[0m\u001b[0;34m\u001b[0m\u001b[0;34m\u001b[0m\u001b[0m\n\u001b[0;32m-> 2302\u001b[0;31m         \u001b[0mself\u001b[0m\u001b[0;34m.\u001b[0m\u001b[0mtk\u001b[0m \u001b[0;34m=\u001b[0m \u001b[0m_tkinter\u001b[0m\u001b[0;34m.\u001b[0m\u001b[0mcreate\u001b[0m\u001b[0;34m(\u001b[0m\u001b[0mscreenName\u001b[0m\u001b[0;34m,\u001b[0m \u001b[0mbaseName\u001b[0m\u001b[0;34m,\u001b[0m \u001b[0mclassName\u001b[0m\u001b[0;34m,\u001b[0m \u001b[0minteractive\u001b[0m\u001b[0;34m,\u001b[0m \u001b[0mwantobjects\u001b[0m\u001b[0;34m,\u001b[0m \u001b[0museTk\u001b[0m\u001b[0;34m,\u001b[0m \u001b[0msync\u001b[0m\u001b[0;34m,\u001b[0m \u001b[0muse\u001b[0m\u001b[0;34m)\u001b[0m\u001b[0;34m\u001b[0m\u001b[0;34m\u001b[0m\u001b[0m\n\u001b[0m\u001b[1;32m   2303\u001b[0m         \u001b[0;32mif\u001b[0m \u001b[0museTk\u001b[0m\u001b[0;34m:\u001b[0m\u001b[0;34m\u001b[0m\u001b[0;34m\u001b[0m\u001b[0m\n\u001b[1;32m   2304\u001b[0m             \u001b[0mself\u001b[0m\u001b[0;34m.\u001b[0m\u001b[0m_loadtk\u001b[0m\u001b[0;34m(\u001b[0m\u001b[0;34m)\u001b[0m\u001b[0;34m\u001b[0m\u001b[0;34m\u001b[0m\u001b[0m\n",
            "\u001b[0;31mTclError\u001b[0m: no display name and no $DISPLAY environment variable"
          ]
        }
      ],
      "source": [
        "import PySimpleGUI as sg\n",
        "\n",
        "sg.theme('DarkBlue7')\n",
        "\n",
        "layout = [\n",
        "    [sg.Text('                                      '),sg.Text('Hey Doctor!', font=('Futura', 20))],\n",
        "    [sg.Text('')],\n",
        "    [sg.Text('')],\n",
        "    [sg.Text('                  '),sg.Text('Name:', font=('Futura', 14)), sg.Input(key='-NAME-', size=(30, 1),background_color='lightblue',text_color='Black')],\n",
        "    [sg.Text('')],\n",
        "    [sg.Text('        '),sg.Text('Symptoms:', font=('Futura', 14)), sg.Input(key='-SYMP-', size=(30, 1),background_color='lightblue',text_color='Black')],\n",
        "    [sg.Text('')],\n",
        "    [sg.Text('')],\n",
        "    [sg.Text('                                        '),sg.Button('Submit', size=(15, 1))]\n",
        "]\n",
        "\n",
        "window = sg.Window('Hey Doctor', layout,size=(500, 300))\n",
        "\n",
        "while True:\n",
        "    event, values = window.read()\n",
        "    if event == sg.WINDOW_CLOSED:\n",
        "        break\n",
        "    if event == 'Submit':\n",
        "        name = values['-NAME-']\n",
        "        symptoms = values['-SYMP-']\n",
        "        user_symptoms = symptoms\n",
        "        user_symptoms = [string_preparation(symptom.strip()) for symptom in user_symptoms.split(\",\")]\n",
        "        next_screen(name,user_symptoms)\n",
        "        \n",
        "        window.close()\n",
        "\n",
        "window.close()"
      ]
    }
  ],
  "metadata": {
    "accelerator": "GPU",
    "colab": {
      "provenance": []
    },
    "gpuClass": "standard",
    "kernelspec": {
      "display_name": "Python 3",
      "name": "python3"
    },
    "language_info": {
      "codemirror_mode": {
        "name": "ipython",
        "version": 3
      },
      "file_extension": ".py",
      "mimetype": "text/x-python",
      "name": "python",
      "nbconvert_exporter": "python",
      "pygments_lexer": "ipython3",
      "version": "3.9.7"
    }
  },
  "nbformat": 4,
  "nbformat_minor": 0
}
